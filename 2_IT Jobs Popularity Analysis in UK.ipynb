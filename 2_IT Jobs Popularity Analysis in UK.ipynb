{
 "cells": [
  {
   "cell_type": "code",
   "execution_count": 1,
   "metadata": {},
   "outputs": [],
   "source": [
    "#Anaconda ile kurulmayan Python kütüphanelerinin kurulumu için:\n",
    "#pip install \"kütüphane ismi\"\n",
    "\n",
    "import pandas as pd\n",
    "import numpy as np\n",
    "import matplotlib.pyplot as plt\n",
    "import seaborn as sns\n",
    "import re\n",
    "import csv\n",
    "import requests\n",
    "from bs4 import BeautifulSoup\n",
    "from selenium import webdriver\n",
    "from selenium.webdriver.common.keys import Keys"
   ]
  },
  {
   "cell_type": "code",
   "execution_count": 12,
   "metadata": {},
   "outputs": [
    {
     "name": "stdout",
     "output_type": "stream",
     "text": [
      "['Agile Software Development', 'Developer', 'Finance', 'SQL', 'JavaScript', 'C#', 'Microsoft', 'Java', '.NET', 'Windows', 'Analyst', 'SQL Server', 'HTML', 'Degree', 'Microsoft Azure', 'CSS', 'Python', 'Linux', 'Amazon AWS', 'Problem-Solving', 'Software Engineering', 'Scrum', 'DevOps', 'TDD', 'MVC', 'AngularJS', 'Analytical Skills', 'Project Management', 'Test Automation', 'Active Directory']\n"
     ]
    }
   ],
   "source": [
    "driver_path = \"C:\\\\Users\\\\a\\\\Documents\\\\00_Data_Science\\\\chromedriver.exe\"\n",
    "driver = webdriver.Chrome(executable_path=driver_path)\n",
    "driver.get(\"https://www.itjobswatch.co.uk/\")\n",
    "Skill_Job_Role = driver.find_elements_by_class_name(\"c2\")\n",
    "\n",
    "Skill_Job_Role_List = []\n",
    "Skill_Job_Role_Link_List = []  \n",
    "\n",
    "\n",
    "for Job_Role in Skill_Job_Role:\n",
    "    Skill_Job_Role_List.append(Job_Role.text)\n",
    "print(Skill_Job_Role_List)\n",
    "\n",
    "\n",
    "\n"
   ]
  },
  {
   "cell_type": "code",
   "execution_count": 19,
   "metadata": {},
   "outputs": [
    {
     "name": "stdout",
     "output_type": "stream",
     "text": [
      "['1 12,543 (27.12%) C#\\n2 12,251 (26.49%) JavaScript\\n3 12,080 (26.12%) Scrum\\n4 11,744 (25.40%) Java\\n5 11,102 (24.01%) .NET\\n6 10,140 (21.93%) SQL\\n7 9,829 (21.25%) Finance\\n8 9,170 (19.83%) TDD\\n9 8,517 (18.42%) HTML\\n10 7,568 (16.37%) CSS\\n11 7,278 (15.74%) Software Engineering\\n12 7,199 (15.57%) SQL Server\\n13 7,122 (15.40%) DevOps\\n14 6,940 (15.01%) Test Automation\\n15 6,552 (14.17%) Amazon AWS\\n16 6,472 (14.00%) Microsoft Azure\\n17 6,466 (13.98%) AngularJS\\n18 6,251 (13.52%) MVC\\n19 6,139 (13.27%) Microsoft\\n20 6,020 (13.02%) Degree\\n21 5,892 (12.74%) Continuous Integration\\n22 5,840 (12.63%) Git (software)\\n23 5,495 (11.88%) Python\\n24 5,345 (11.56%) ASP.NET\\n25 4,943 (10.69%) Problem-Solving\\n26 4,879 (10.55%) Microservices\\n27 4,549 (9.84%) BDD\\n28 4,494 (9.72%) SDLC\\n29 4,372 (9.45%) Linux\\n30 4,370 (9.45%) QA']\n"
     ]
    }
   ],
   "source": [
    "driver_path = \"C:\\\\Users\\\\a\\\\Documents\\\\00_Data_Science\\\\chromedriver.exe\"\n",
    "driver = webdriver.Chrome(executable_path=driver_path)\n",
    "driver.get(\"https://www.itjobswatch.co.uk/jobs/uk/agile%20software%20development.do\")\n",
    "Top30_IT_Skills = driver.find_elements_by_xpath(\"/html/body/div[1]/table[2]/tbody/tr/td[1]/table[2]/tbody/tr/td/div/table[2]/tbody\")\n",
    "\n",
    "Top_30_IT_Skills = []\n",
    "\n",
    "for IT_Skills in Top30_IT_Skills:\n",
    "    Top_30_IT_Skills.append(IT_Skills.text)\n",
    "print(Top_30_IT_Skills)\n",
    "\n",
    "\n",
    "\n",
    "\n",
    "\n",
    "1\t12,543 (27.12%)\tC#\n",
    "2\t12,251 (26.49%)\tJavaScript\n",
    "\n"
   ]
  },
  {
   "cell_type": "code",
   "execution_count": 24,
   "metadata": {},
   "outputs": [
    {
     "name": "stdout",
     "output_type": "stream",
     "text": [
      "[]\n"
     ]
    }
   ],
   "source": [
    "driver_path = \"C:\\\\Users\\\\a\\\\Documents\\\\00_Data_Science\\\\chromedriver.exe\"\n",
    "driver = webdriver.Chrome(executable_path=driver_path)\n",
    "driver.get(\"https://www.itjobswatch.co.uk/jobs/uk/agile%20software%20development.do\")\n",
    "Top30_IT_Skills_Yuzde = driver.find_elements_by_css_selector(\"body > div.centerBody > table.pageContent > tbody > tr > td:nth-child(1) > table:nth-child(2) > tbody > tr > td > div > table:nth-child(15) > tbody > tr > span\")\n",
    "\n",
    "Top_30_IT_Skills_Yuzde = []\n",
    "\n",
    "for IT_Skills_Yuzde in Top30_IT_Skills_Yuzde:\n",
    "    Top_30_IT_Skills_Yuzde.append(IT_Skills_Yuzde.text)\n",
    "print(Top_30_IT_Skills_Yuzde)\n",
    "\n",
    "\n",
    "\n",
    "#/html/body/div[1]/table[2]/tbody/tr/td[1]/table[2]/tbody/tr/td/div/table[2]\n",
    "#/html/body/div[1]/table[2]/tbody/tr/td[1]/table[2]/tbody/tr/td/div/table[2]/tbody/tr/td[1]/table/tbody/tr[1]/td[2]/span\n"
   ]
  },
  {
   "cell_type": "code",
   "execution_count": null,
   "metadata": {},
   "outputs": [],
   "source": []
  }
 ],
 "metadata": {
  "kernelspec": {
   "display_name": "Python 3",
   "language": "python",
   "name": "python3"
  },
  "language_info": {
   "codemirror_mode": {
    "name": "ipython",
    "version": 3
   },
   "file_extension": ".py",
   "mimetype": "text/x-python",
   "name": "python",
   "nbconvert_exporter": "python",
   "pygments_lexer": "ipython3",
   "version": "3.7.0"
  }
 },
 "nbformat": 4,
 "nbformat_minor": 2
}
